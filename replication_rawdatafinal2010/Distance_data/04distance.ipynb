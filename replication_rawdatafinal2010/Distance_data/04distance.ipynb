{
 "cells": [
  {
   "cell_type": "code",
   "execution_count": 8,
   "metadata": {},
   "outputs": [],
   "source": [
    "from uszipcode import SearchEngine  #pip install uszipcode  \n",
    "import mpu  # cmd:pip install mpu   \n",
    "import pandas as pd"
   ]
  },
  {
   "cell_type": "code",
   "execution_count": 9,
   "metadata": {},
   "outputs": [
    {
     "data": {
      "text/plain": [
       "329.1514070721479"
      ]
     },
     "execution_count": 9,
     "metadata": {},
     "output_type": "execute_result"
    }
   ],
   "source": [
    "# calculate distance\n",
    "search = SearchEngine()\n",
    "\n",
    "def dist(bank_zip):\n",
    "    zip1=search.by_zipcode(bank_zip)\n",
    "    lat1=zip1.lat\n",
    "    long1=zip1.lng\n",
    "\n",
    "    zip2=search.by_zipcode('20001')\n",
    "    lat2 =zip2.lat\n",
    "    long2 =zip2.lng\n",
    "\n",
    "    dist = mpu.haversine_distance((lat1,long1),(lat2,long2))\n",
    "    return dist\n",
    "dist('10001')"
   ]
  },
  {
   "cell_type": "code",
   "execution_count": 10,
   "metadata": {},
   "outputs": [],
   "source": [
    "# Import Data\n",
    "raw_data_cd = r'/Users/guojiahui/Master/打工/张毅/code_data/processed_data'\n",
    "save_data_cd = r'/Users/guojiahui/Master/打工/张毅/code_data/raw_data'\n",
    "bank_zipcode = pd.read_excel(f'{raw_data_cd}/bank_zipcode.xlsx', dtype = {'ZipCode': str}) # delete nrows to get full sample"
   ]
  },
  {
   "cell_type": "code",
   "execution_count": 11,
   "metadata": {},
   "outputs": [],
   "source": [
    "# Apply function to calculate distance\n",
    "bank_zipcode['distance'] = bank_zipcode['ZipCode'].apply(dist)"
   ]
  },
  {
   "cell_type": "code",
   "execution_count": 12,
   "metadata": {},
   "outputs": [],
   "source": [
    "#Save Data\n",
    "bank_zipcode.to_excel(f'{save_data_cd}/distance.xlsx')"
   ]
  },
  {
   "cell_type": "code",
   "execution_count": null,
   "metadata": {},
   "outputs": [],
   "source": []
  }
 ],
 "metadata": {
  "kernelspec": {
   "display_name": "Python 3 (ipykernel)",
   "language": "python",
   "name": "python3"
  },
  "language_info": {
   "codemirror_mode": {
    "name": "ipython",
    "version": 3
   },
   "file_extension": ".py",
   "mimetype": "text/x-python",
   "name": "python",
   "nbconvert_exporter": "python",
   "pygments_lexer": "ipython3",
   "version": "3.11.5"
  }
 },
 "nbformat": 4,
 "nbformat_minor": 4
}
